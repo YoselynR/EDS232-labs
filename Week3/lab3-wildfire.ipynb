{
 "cells": [
  {
   "cell_type": "code",
   "execution_count": 89,
   "id": "6d41e7de-5f0c-4baf-a37f-ec5dbe4f7428",
   "metadata": {
    "tags": []
   },
   "outputs": [],
   "source": [
    "# Imports\n",
    "import pandas as pd\n",
    "import numpy as np\n",
    "from sklearn.model_selection import train_test_split\n",
    "from sklearn.preprocessing import StandardScaler\n",
    "from sklearn.linear_model import LogisticRegression\n",
    "from sklearn.dummy import DummyClassifier\n",
    "from sklearn.metrics import accuracy_score, confusion_matrix, classification_report, roc_curve, roc_auc_score, ConfusionMatrixDisplay\n",
    "import matplotlib.pyplot as plt\n",
    "import seaborn as sns"
   ]
  },
  {
   "cell_type": "markdown",
   "id": "e492775e-957c-40b4-b64f-5de93dbea5e1",
   "metadata": {},
   "source": [
    "# Lab 4: Fire and Tree Mortality\n",
    "\n",
    "# About the data\n",
    "Wildfires are increasingly frequent and severe due to climate change. Predicting tree mortality following a wildfire is critical for forest management, ecosystem recovery, and carbon sequestration planning. In this lab, we will build a logistic regression model to predict the probability of tree mortality one year after a wildfire\n",
    "\n",
    "The database we'll be working with today includes observations of individual trees involved in prescribed fires and wildfires occurring over 35 years, from 1981 to 2016. It is drawn from a fire and tree mortality database from the US Forest Service (see data description for the full database here: [link](https://www.nature.com/articles/s41597-020-0522-7#Sec10)).\n",
    "\n",
    "The target variable we'll use is `yr1status`, which is a binary variable (0=alive, 1=dead).  This tells us if a tree has died one year after a fire event.\n",
    "\n",
    "The features we'll use are `YrFireName`, `Times_burned`, `Species`, `Genus_species`,\n",
    "    `DBH_cm`, `HT_m`, `CR_pre`, and `CR_post`."
   ]
  },
  {
   "cell_type": "markdown",
   "id": "8f2c5ce6-eb43-4544-8b88-c306a7618c85",
   "metadata": {},
   "source": [
    "## Step 1: Check the metadata\n",
    "\n",
    "Look at the metadata and provide a description on what each variable represents in the Description column below.\n"
   ]
  },
  {
   "cell_type": "markdown",
   "id": "c7b239ac-123f-4458-bf2c-fc46dcf5cc0a",
   "metadata": {},
   "source": [
    "| Feature                     | Description                                                                                   |\n",
    "|-----------------------------|-----------------------------------------------------------------------------------------------| \n",
    "| yr1status                   | Binary target variable, indicates tree mortality one year after fire (0 = alive, 1 = dead).\n",
    "| YrFireName                  | Name or indetifier of fire event the tree was involved in.                                    \n",
    "| Times_burned                | Number of times tree has experienced fire, prior to recorded event.                                             \n",
    "| Species                     | Categorical variable representing tree species name.                                                    \n",
    "| Genus_species               | Species genus and species name.                                       \n",
    "| DBH_cm                      | Diameter of tree at breast height in centimeters.\n",
    "| HT_m                        | Height of tree in meters.\n",
    "| CR_pre                      | Crown ratio before fire event.\n",
    "| CR_post                     | Crown ratio after fire event."
   ]
  },
  {
   "cell_type": "markdown",
   "id": "55d355a0",
   "metadata": {},
   "source": [
    "## Step 2: Fetch  data\n",
    "Read in the data set and filter to retain only the variables of interest.  Then check for incomplete observations and remove any rows containing NaNs.  How many observations does that leave us with? **Print your answer.**"
   ]
  },
  {
   "cell_type": "code",
   "execution_count": 90,
   "id": "ac926dc2",
   "metadata": {
    "tags": []
   },
   "outputs": [
    {
     "name": "stdout",
     "output_type": "stream",
     "text": [
      "Number of observations after removing NaNs: 36509\n"
     ]
    }
   ],
   "source": [
    "# Load the dataset\n",
    "trees_dat = pd.read_csv('/courses/EDS232/Data/FTM_trees.csv', low_memory=False)\n",
    "\n",
    "# Select the relevant features\n",
    "features = ['YrFireName', \n",
    "            'Times_burned', \n",
    "            'Species', \n",
    "            'Genus_species', \n",
    "            'DBH_cm', \n",
    "            'HT_m', \n",
    "            'CR_pre', \n",
    "            'CR_post']\n",
    "target = 'yr1status'\n",
    "\n",
    "# Filter dataset to only include selected features and the target\n",
    "trees_data = trees_dat[features + [target]]\n",
    "\n",
    "# Drop rows with missing target variable and any rows that might have NaNs in key predictors\n",
    "trees_data = trees_data.dropna()\n",
    "\n",
    "# Number of observations\n",
    "print(f\"Number of observations after removing NaNs: {trees_data.shape[0]}\")"
   ]
  },
  {
   "cell_type": "markdown",
   "id": "aaf806bf",
   "metadata": {},
   "source": [
    "## Step 3: Data Preprocessing\n",
    "1. We recode categorical predictors to zero-based integer form because most machine learning models, including logistic regression, cannot work directly with categorical data represented as strings or labels. Instead, models require numerical input. Let's do that here. \n"
   ]
  },
  {
   "cell_type": "code",
   "execution_count": 91,
   "id": "b481541f-d184-4060-b13f-ad1ac6e5a033",
   "metadata": {
    "tags": []
   },
   "outputs": [],
   "source": [
    "# List of categorical columns\n",
    "categorical_columns = ['YrFireName', 'Species', 'Genus_species']\n",
    "\n",
    "# Apply factorize to each categorical column \n",
    "trees_data[categorical_columns] = trees_data[categorical_columns].apply(lambda x: pd.factorize(x)[0])"
   ]
  },
  {
   "cell_type": "markdown",
   "id": "fdcc4673-26dc-4c09-8c9a-0f2f97abe16f",
   "metadata": {},
   "source": [
    "2. Then we'll split into training and test data and scale for coefficient interpretability.  Recall that we use the training features to calculate our scaling parameters (mean and standard deviation) and apply the scaling to those training features (`scaler.fit_transform`) and then apply the scaling to the features in the test data as well (`scaler.transform`).\n"
   ]
  },
  {
   "cell_type": "code",
   "execution_count": 93,
   "id": "54b2f9d2-f414-4bf2-b0a3-51d55f3d997a",
   "metadata": {
    "tags": []
   },
   "outputs": [],
   "source": [
    "# Split the data into training and testing sets\n",
    "X = trees_data[features]\n",
    "y = trees_data[target]\n",
    "\n",
    "X_train, X_test, y_train, y_test = train_test_split(X, y, test_size=0.3, random_state=42)\n",
    "# Standardize the predictors\n",
    "scaler = StandardScaler()\n",
    "# Scale the training data and keep feature names\n",
    "X_train_scaled = pd.DataFrame(scaler.fit_transform(X_train), columns=X_train.columns)\n",
    "# Scale the test data and keep feature names\n",
    "X_test_scaled = pd.DataFrame(scaler.transform(X_test), columns=X_train.columns)"
   ]
  },
  {
   "cell_type": "markdown",
   "id": "3055eca1-9c22-4266-95a0-710b43be5a8e",
   "metadata": {},
   "source": [
    "3. How many training/test observations do we have? Print your answer in the cell below. "
   ]
  },
  {
   "cell_type": "code",
   "execution_count": 94,
   "id": "fdb4803d-8680-4ede-b790-3579f4a485e7",
   "metadata": {
    "tags": []
   },
   "outputs": [
    {
     "name": "stdout",
     "output_type": "stream",
     "text": [
      "Training set observations: 25556\n",
      "Testing set observations: 10953\n"
     ]
    }
   ],
   "source": [
    "# Verify the training and testing set size\n",
    "print(\"Training set observations:\", X_train_scaled.shape[0])\n",
    "print(\"Testing set observations:\", X_test_scaled.shape[0])"
   ]
  },
  {
   "cell_type": "markdown",
   "id": "4ca8857c",
   "metadata": {},
   "source": [
    "## Step 4: Train a Logistical Model\n",
    "Create a classifier using `LogisticRegression()` and fit it on the training data.  Then assess the model's accuracy on the training set by making predictions on the training data.  Calculate and **print** the accuracy of your model on the training set. "
   ]
  },
  {
   "cell_type": "code",
   "execution_count": 95,
   "id": "578b2ca5",
   "metadata": {
    "tags": []
   },
   "outputs": [
    {
     "name": "stdout",
     "output_type": "stream",
     "text": [
      "Training Accuracy: 0.9436\n"
     ]
    }
   ],
   "source": [
    "# Create a Logistic Regression classifier\n",
    "logreg = LogisticRegression(random_state=42)\n",
    "\n",
    "# Fit the model on the training data\n",
    "logreg.fit(X_train_scaled, y_train)\n",
    "\n",
    "# Make predictions on the training data\n",
    "y_train_pred = logreg.predict(X_train_scaled)\n",
    "\n",
    "# Calculate accuracy on the training set\n",
    "train_accuracy = accuracy_score(y_train, y_train_pred)\n",
    "print(f\"Training Accuracy: {train_accuracy:.4f}\")"
   ]
  },
  {
   "cell_type": "markdown",
   "id": "34d86616",
   "metadata": {},
   "source": [
    "## Step 5: Test Set Predictions and Model Evaluation\n",
    "Now let's take our trained logistic classifier and make predictions on the test set. Calculate the accuracy and confusion matrix. Then use `sns.heatmap` for improved confusion matrix visualization."
   ]
  },
  {
   "cell_type": "code",
   "execution_count": 96,
   "id": "be4e4d6c",
   "metadata": {
    "tags": []
   },
   "outputs": [
    {
     "name": "stdout",
     "output_type": "stream",
     "text": [
      "Accuracy: 0.9393\n"
     ]
    },
    {
     "data": {
      "image/png": "[encoded data removed]",
      "text/plain": [
       "<Figure size 600x500 with 2 Axes>"
      ]
     },
     "metadata": {},
     "output_type": "display_data"
    }
   ],
   "source": [
    "# Make predictions on the test set\n",
    "y_test_pred = logreg.predict(X_test_scaled)\n",
    "\n",
    "# Calculate accuracy on the test set\n",
    "test_accuracy = accuracy_score(y_test, y_test_pred)\n",
    "\n",
    "# Print evaluation metrics\n",
    "print(f\"Accuracy: {test_accuracy:.4f}\")\n",
    "\n",
    "\n",
    "#Plot confusion matrix\n",
    "cm = confusion_matrix(y_test, y_test_pred)\n",
    "\n",
    "# Visualize the confusion matrix with a heatmap\n",
    "plt.figure(figsize=(6, 5))\n",
    "sns.heatmap(cm, \n",
    "            annot=True, \n",
    "            fmt=\"d\", # Integer format (decimal)\n",
    "            cmap=\"Blues\", \n",
    "            xticklabels=[\"Alive\", \"Dead\"], \n",
    "            yticklabels=[\"Alive\", \"Dead\"])\n",
    "plt.title(\"Confusion Matrix\")\n",
    "plt.xlabel(\"Predicted\")\n",
    "plt.ylabel(\"Actual\")\n",
    "plt.show()"
   ]
  },
  {
   "cell_type": "markdown",
   "id": "9b5cdbbb",
   "metadata": {},
   "source": [
    "## Step 6: Logistic Classifier Evaluation\n",
    "How did your model perform on the unseen data? \n",
    "Does your model perform differently on observations of trees that survived vs trees that died?\n",
    "Is there a class imbalance in this data set?"
   ]
  },
  {
   "cell_type": "markdown",
   "id": "7c651ef7",
   "metadata": {},
   "source": [
    "*The model performed well on the data it was trained on, with a 94.36% accuracy. The model then performed well on the unseen data, with 93.93% accuracy. Since the test accuracy is very close to the training accuracy, this suggests that the model is not overfitting, which is great! The drop in accuracy is small, meaning the model generalizes well from the training data to unseen data. The model predicts alive instances with more accuracy that dead instances but still does fairly well. There is a bit of an imbalance for alive and dead observations, with more alive instances.*"
   ]
  },
  {
   "cell_type": "markdown",
   "id": "c60c7e36",
   "metadata": {},
   "source": [
    "## Step 7: What about a Dummy?\n",
    "What do you think would happen if we built a model that always predicts the majority class (dead trees)? How would its accuracy compare to your logistic regression model?"
   ]
  },
  {
   "cell_type": "markdown",
   "id": "e66ba576",
   "metadata": {},
   "source": [
    "*A dummy that would always predict all dead trees would give more false negatives by predicting alive trees as dead. This would potentially make accuracy lower compared to the logistic regression model, specifically for alive trees would be predicted as dead. Dead trees would be overpredicted to ensure all actual dead trees are counted.*"
   ]
  },
  {
   "cell_type": "markdown",
   "id": "6854360d",
   "metadata": {},
   "source": [
    "Let's go ahead and do it: use `DummyClassifier()` with the appropriate value for the 'strategy' parameter to train a majority classifier.  Then calculate this model's accuracy on the training data."
   ]
  },
  {
   "cell_type": "code",
   "execution_count": 105,
   "id": "fe5b4015",
   "metadata": {
    "tags": []
   },
   "outputs": [
    {
     "name": "stdout",
     "output_type": "stream",
     "text": [
      "Dummy Accuracy: 0.9172\n",
      "\n",
      "Dummy Confusion Matrix:\n",
      "[[23441     0]\n",
      " [ 2115     0]]\n"
     ]
    }
   ],
   "source": [
    "# Create the DummyClassifier with the 'most_frequent' strategy\n",
    "dummy_clf = DummyClassifier(strategy='most_frequent', random_state=42)\n",
    "\n",
    "# Train the DummyClassifier on the training data\n",
    "dummy_clf.fit(X_train_scaled, y_train)\n",
    "\n",
    "# Make predictions on the training data\n",
    "y_train_pred_dummy = dummy_clf.predict(X_train_scaled)\n",
    "\n",
    "# Calculate the accuracy of the DummyClassifier on the training data\n",
    "train_accuracy_dummy = accuracy_score(y_train, y_train_pred_dummy)\n",
    "\n",
    "# Generate the confusion matrix\n",
    "cm_dummy = confusion_matrix(y_train, y_train_pred_dummy)\n",
    "\n",
    "# Print accuracy and confusion matrix results\n",
    "print(f\"Dummy Accuracy: {train_accuracy_dummy:.4f}\")\n",
    "print(\"\\nDummy Confusion Matrix:\")\n",
    "print(cm_dummy)"
   ]
  },
  {
   "cell_type": "markdown",
   "id": "e3445d23",
   "metadata": {},
   "source": [
    "# Step 8: ROCs and AUCs\n",
    "Our two models have similar accuracy, but is that all there is to this story?  Let's dig a little deeper on the comparison of our logistic and dummy classifiers by examining the associated receiver-operator characteristic (ROC) curves. Calculate the area under the curve (AUC) for both models."
   ]
  },
  {
   "cell_type": "code",
   "execution_count": 98,
   "id": "cef8515b",
   "metadata": {
    "tags": []
   },
   "outputs": [
    {
     "name": "stdout",
     "output_type": "stream",
     "text": [
      "Logistic AUC: 0.9169\n"
     ]
    }
   ],
   "source": [
    "# Logistic classifier AUC\n",
    "y_train_prob_logreg = logreg.predict_proba(X_train_scaled)[:, 1]\n",
    "fpr_logreg, tpr_logreg, _ = roc_curve(y_train, y_train_prob_logreg)\n",
    "roc_auc_logreg = roc_auc_score(y_train, y_train_prob_logreg)\n",
    "# Print \n",
    "print(f\"Logistic AUC: {roc_auc_logreg:.4f}\")"
   ]
  },
  {
   "cell_type": "code",
   "execution_count": 99,
   "id": "5180e8b8",
   "metadata": {
    "tags": []
   },
   "outputs": [
    {
     "name": "stdout",
     "output_type": "stream",
     "text": [
      "Dummy AUC: 0.5000\n"
     ]
    }
   ],
   "source": [
    "# Dummy classifier AUC\n",
    "y_train_prob_dummy = dummy_clf.predict_proba(X_train_scaled)[:, 1]\n",
    "fpr_dummy, tpr_dummy, _ = roc_curve(y_train, y_train_prob_dummy)\n",
    "roc_auc_dummy = roc_auc_score(y_train, y_train_prob_dummy)\n",
    "# Print\n",
    "print(f\"Dummy AUC: {roc_auc_dummy:.4f}\")"
   ]
  },
  {
   "cell_type": "markdown",
   "id": "4acd252f",
   "metadata": {},
   "source": [
    "# Step 9: Plot dummy and logistic model ROC curves\n",
    "Now using the outputs from `roc_curve()`, plot the ROC curves for both models on the same plot.  Make sure to use appropriate labels in the legend."
   ]
  },
  {
   "cell_type": "code",
   "execution_count": 71,
   "id": "03a7fe29",
   "metadata": {
    "tags": []
   },
   "outputs": [
    {
     "data": {
      "image/png": "[encoded data removed]",
      "text/plain": [
       "<Figure size 800x600 with 1 Axes>"
      ]
     },
     "metadata": {},
     "output_type": "display_data"
    }
   ],
   "source": [
    "# Plot ROC Curves for both models (Logistic Regression and Dummy Classifier)\n",
    "plt.figure(figsize=(8, 6))\n",
    "\n",
    "# Plot ROC curve for Logistic Regression\n",
    "plt.plot(fpr_logreg, tpr_logreg, color='lightblue', lw=2, label=f'Logistic Regression (AUC = {roc_auc_logreg:.4f})')\n",
    "\n",
    "# Plot ROC curve for Dummy Classifier\n",
    "plt.plot(fpr_dummy, tpr_dummy, color='violet', lw=2, label=f'Dummy Classifier (AUC = {roc_auc_dummy:.4f})')\n",
    "\n",
    "# Plot the random classifier line (AUC = 0.5)\n",
    "plt.plot([0, 1], [0, 1], color='gray', lw=2, linestyle='--', label=\"Random Classifier (AUC = 0.5)\")\n",
    "\n",
    "# Set plot limits and labels\n",
    "plt.xlim([0.0, 1.0])\n",
    "plt.ylim([0.0, 1.05])\n",
    "plt.xlabel('False Positive Rate (FPR)')\n",
    "plt.ylabel('True Positive Rate (TPR)')\n",
    "plt.title('Receiver Operating Characteristic (ROC) Curve')\n",
    "\n",
    "# Show legend\n",
    "plt.legend(loc='lower right')\n",
    "\n",
    "# Display the plot\n",
    "plt.show()"
   ]
  },
  {
   "cell_type": "markdown",
   "id": "ec104e80",
   "metadata": {},
   "source": [
    "How do the two models compare on AUC?  What are the implications for evaluating classifiers based on accuracy of their predictions?"
   ]
  },
  {
   "cell_type": "markdown",
   "id": "a4ab1a30",
   "metadata": {},
   "source": [
    "*The logistic regression model AUC at 0.9169 significantly outperforms the dummy classifier AUC at 0.5000. The logistic regression model is much better at distinguishing between alive trees and dead trees, which is clear from the high AUC. The dummy classifier’s AUC of 0.5 indicates it is essentially useless for separating the classes, which aligns with our expectation since the dummy classifier always predicts the majority class. The AUC provides more insight into the model's ability to rank or differentiate between classes than accuracy does, especially in the context of imbalanced datasets.*"
   ]
  },
  {
   "cell_type": "markdown",
   "id": "d1767d77",
   "metadata": {},
   "source": [
    "# Step 10: Final interpretation\n",
    "\n",
    "Identifying the most important features in a model can guide decision-making. For instance, in our dataset, highly important features might indicate key factors affecting tree survival after a fire. We will calculate the feature importance by examining the coefficients of our logistic regression model."
   ]
  },
  {
   "cell_type": "code",
   "execution_count": 72,
   "id": "e0a97e03",
   "metadata": {
    "tags": []
   },
   "outputs": [
    {
     "name": "stdout",
     "output_type": "stream",
     "text": [
      "         Feature  Coefficient  Abs_Coefficient\n",
      "7        CR_post    -2.268484         2.268484\n",
      "5           HT_m    -0.996278         0.996278\n",
      "4         DBH_cm     0.413430         0.413430\n",
      "3  Genus_species     0.180301         0.180301\n",
      "2        Species     0.180301         0.180301\n",
      "0     YrFireName    -0.133544         0.133544\n",
      "6         CR_pre     0.026231         0.026231\n",
      "1   Times_burned     0.000000         0.000000\n"
     ]
    }
   ],
   "source": [
    "# Get the feature importance (coefficients) from the Logistic Regression model\n",
    "coefficients = logreg.coef_[0]  # Extract coefficients from the fitted model (1D array)\n",
    "\n",
    "# Create a DataFrame to hold the feature names and their corresponding coefficients\n",
    "importance_df = pd.DataFrame({\n",
    "    'Feature': features,\n",
    "    'Coefficient': coefficients\n",
    "})\n",
    "\n",
    "# Add a column for the absolute value of the coefficients (for sorting)\n",
    "importance_df['Abs_Coefficient'] = importance_df['Coefficient'].abs()\n",
    "\n",
    "# Sort the features by the absolute value of the coefficient (from most to least important)\n",
    "importance_df = importance_df.sort_values(by='Abs_Coefficient', ascending=False)\n",
    "\n",
    "# Print the sorted feature importance\n",
    "print(importance_df[['Feature', 'Coefficient', 'Abs_Coefficient']])"
   ]
  },
  {
   "cell_type": "markdown",
   "id": "55d9db5d",
   "metadata": {},
   "source": [
    "Which are the most important features in our model (reference the metadata to help answer this)? Can you think of any implications for forest management or conservation strategy?"
   ]
  },
  {
   "cell_type": "markdown",
   "id": "bd42e56c",
   "metadata": {},
   "source": [
    "*The most important feature negatively suggests crown ratio recovery post-fire is associated with higher mortality. The height of the tree has a strong influence on survival, with taller trees being more vulnerable. Larger trees by breast height diameter are more likely to survive, due to better physical resilience. Different species and genera have different levels of fire resilience, which affects survival rates. Fires from certain years, likely those with more extreme conditions, are associated with higher mortality rates. The pre-fire crown ratio has a minor positive effect, suggesting trees in better condition before the fire have a slight edge in surviving. Since trees that experience poor recovery post-fire are more likely to die. Forest managers should focus on restoring vegetation and ecosystem functions after a fire, including reducing soil erosion, promoting nutrient health, and encouraging quick regrowth of surrounding vegetation to provide cover protection for trees.*"
   ]
  }
 ],
 "metadata": {
  "kernelspec": {
   "display_name": "Anaconda 3 (EDS232)",
   "language": "python",
   "name": "ml-env"
  },
  "language_info": {
   "codemirror_mode": {
    "name": "ipython",
    "version": 3
   },
   "file_extension": ".py",
   "mimetype": "text/x-python",
   "name": "python",
   "nbconvert_exporter": "python",
   "pygments_lexer": "ipython3",
   "version": "3.10.16"
  }
 },
 "nbformat": 4,
 "nbformat_minor": 5
}
